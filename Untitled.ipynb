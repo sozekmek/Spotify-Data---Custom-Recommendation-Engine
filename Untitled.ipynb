{
 "cells": [
  {
   "cell_type": "code",
   "execution_count": 22,
   "id": "54aaaa66",
   "metadata": {},
   "outputs": [],
   "source": [
    "from sklearn import preprocessing\n",
    "import pandas as pd\n",
    "import requests\n",
    "import json\n",
    "spotify_token = \"BQDQL1P_PcAaZev8Qrkmgc28TNdyzrN67b7aMy4p4LNK43EponP5_-oeLFSBQ0EYahBcuXRwvdAj1cfE6HhC650MtQ3viMSQ7cY1-cDzY5s5x3Tr0IOn5gGvvWJoHi_ivgEov8RXpBCe-GIV0L0PqIxCqg2TK00JzuxHlNKFLlVStC-Kv6ow2UYcmQxsiJsFr6QHTSj-aZp75xoXwXSeJesSn7mu3qZuMP4O86oLQ7u4MexMZVLc-729\""
   ]
  },
  {
   "cell_type": "code",
   "execution_count": 24,
   "id": "6e674e33",
   "metadata": {},
   "outputs": [
    {
     "data": {
      "text/html": [
       "<div>\n",
       "<style scoped>\n",
       "    .dataframe tbody tr th:only-of-type {\n",
       "        vertical-align: middle;\n",
       "    }\n",
       "\n",
       "    .dataframe tbody tr th {\n",
       "        vertical-align: top;\n",
       "    }\n",
       "\n",
       "    .dataframe thead th {\n",
       "        text-align: right;\n",
       "    }\n",
       "</style>\n",
       "<table border=\"1\" class=\"dataframe\">\n",
       "  <thead>\n",
       "    <tr style=\"text-align: right;\">\n",
       "      <th></th>\n",
       "      <th>Title</th>\n",
       "      <th>Artist</th>\n",
       "      <th>Beats Per Minute (BPM)</th>\n",
       "      <th>Energy</th>\n",
       "      <th>Danceability</th>\n",
       "      <th>Loudness (dB)</th>\n",
       "      <th>Liveness</th>\n",
       "      <th>Valence</th>\n",
       "      <th>Acousticness</th>\n",
       "      <th>Speechiness</th>\n",
       "    </tr>\n",
       "  </thead>\n",
       "  <tbody>\n",
       "    <tr>\n",
       "      <th>0</th>\n",
       "      <td>Sunrise</td>\n",
       "      <td>Norah Jones</td>\n",
       "      <td>157</td>\n",
       "      <td>30</td>\n",
       "      <td>53</td>\n",
       "      <td>-14</td>\n",
       "      <td>11</td>\n",
       "      <td>68</td>\n",
       "      <td>94</td>\n",
       "      <td>3</td>\n",
       "    </tr>\n",
       "    <tr>\n",
       "      <th>1</th>\n",
       "      <td>Black Night</td>\n",
       "      <td>Deep Purple</td>\n",
       "      <td>135</td>\n",
       "      <td>79</td>\n",
       "      <td>50</td>\n",
       "      <td>-11</td>\n",
       "      <td>17</td>\n",
       "      <td>81</td>\n",
       "      <td>17</td>\n",
       "      <td>7</td>\n",
       "    </tr>\n",
       "    <tr>\n",
       "      <th>2</th>\n",
       "      <td>Clint Eastwood</td>\n",
       "      <td>Gorillaz</td>\n",
       "      <td>168</td>\n",
       "      <td>69</td>\n",
       "      <td>66</td>\n",
       "      <td>-9</td>\n",
       "      <td>7</td>\n",
       "      <td>52</td>\n",
       "      <td>2</td>\n",
       "      <td>17</td>\n",
       "    </tr>\n",
       "    <tr>\n",
       "      <th>3</th>\n",
       "      <td>The Pretender</td>\n",
       "      <td>Foo Fighters</td>\n",
       "      <td>173</td>\n",
       "      <td>96</td>\n",
       "      <td>43</td>\n",
       "      <td>-4</td>\n",
       "      <td>3</td>\n",
       "      <td>37</td>\n",
       "      <td>0</td>\n",
       "      <td>4</td>\n",
       "    </tr>\n",
       "    <tr>\n",
       "      <th>4</th>\n",
       "      <td>Waitin' On A Sunny Day</td>\n",
       "      <td>Bruce Springsteen</td>\n",
       "      <td>106</td>\n",
       "      <td>82</td>\n",
       "      <td>58</td>\n",
       "      <td>-5</td>\n",
       "      <td>10</td>\n",
       "      <td>87</td>\n",
       "      <td>1</td>\n",
       "      <td>3</td>\n",
       "    </tr>\n",
       "  </tbody>\n",
       "</table>\n",
       "</div>"
      ],
      "text/plain": [
       "                    Title             Artist  Beats Per Minute (BPM)  Energy  \\\n",
       "0                 Sunrise        Norah Jones                     157      30   \n",
       "1             Black Night        Deep Purple                     135      79   \n",
       "2          Clint Eastwood           Gorillaz                     168      69   \n",
       "3           The Pretender       Foo Fighters                     173      96   \n",
       "4  Waitin' On A Sunny Day  Bruce Springsteen                     106      82   \n",
       "\n",
       "   Danceability  Loudness (dB)  Liveness  Valence  Acousticness  Speechiness  \n",
       "0            53            -14        11       68            94            3  \n",
       "1            50            -11        17       81            17            7  \n",
       "2            66             -9         7       52             2           17  \n",
       "3            43             -4         3       37             0            4  \n",
       "4            58             -5        10       87             1            3  "
      ]
     },
     "execution_count": 24,
     "metadata": {},
     "output_type": "execute_result"
    }
   ],
   "source": [
    "tracks_df = pd.read_csv(\"Spotify-2000.csv\")\n",
    "tracks_df = tracks_df.drop([\"Length (Duration)\",\"Popularity\",\"Top Genre\",\"Year\",\"Index\"],axis=1)\n",
    "tracks_df.head()"
   ]
  },
  {
   "cell_type": "code",
   "execution_count": 3,
   "id": "26bd01be",
   "metadata": {},
   "outputs": [
    {
     "data": {
      "text/plain": [
       "Queen                 37\n",
       "The Beatles           36\n",
       "Coldplay              27\n",
       "U2                    26\n",
       "The Rolling Stones    24\n",
       "                      ..\n",
       "Lee Towers             1\n",
       "Tenacious D            1\n",
       "The Trammps            1\n",
       "Maggie MacNeal         1\n",
       "Air                    1\n",
       "Name: Artist, Length: 731, dtype: int64"
      ]
     },
     "execution_count": 3,
     "metadata": {},
     "output_type": "execute_result"
    }
   ],
   "source": [
    "tracks_df[\"Artist\"].value_counts()"
   ]
  },
  {
   "cell_type": "code",
   "execution_count": 4,
   "id": "95829bbe",
   "metadata": {},
   "outputs": [],
   "source": [
    "def get_spotify_uri(song_name, artist):\n",
    "        \"\"\"Search For the Song\"\"\"\n",
    "        query = \"https://api.spotify.com/v1/search?query=track%3A{}+artist%3A{}&type=track&offset=0&limit=20\".format(\n",
    "            song_name,\n",
    "            artist\n",
    "        )\n",
    "        response = requests.get(\n",
    "            query,\n",
    "            headers={\n",
    "                \"Content-Type\": \"application/json\",\n",
    "                \"Authorization\": \"Bearer {}\".format(spotify_token)\n",
    "            }\n",
    "        )\n",
    "        response_json = response.json()\n",
    "        songs = response_json[\"tracks\"][\"items\"]\n",
    "\n",
    "        # only use the first song\n",
    "        uri = songs[0][\"uri\"]\n",
    "\n",
    "        return uri"
   ]
  },
  {
   "cell_type": "code",
   "execution_count": 17,
   "id": "664bee38",
   "metadata": {},
   "outputs": [],
   "source": [
    "def add_to_playlist(playlist_id,uris):\n",
    "    # add all songs into new playlist\n",
    "    request_data = json.dumps(uris)\n",
    "\n",
    "    query = \"https://api.spotify.com/v1/playlists/{}/tracks\".format(\n",
    "    playlist_id)\n",
    "\n",
    "    response = requests.post(\n",
    "        query,\n",
    "        data=request_data,\n",
    "        headers={\n",
    "            \"Content-Type\": \"application/json\",\n",
    "            \"Authorization\": \"Bearer {}\".format(spotify_token)\n",
    "        }\n",
    "    )"
   ]
  },
  {
   "cell_type": "code",
   "execution_count": 23,
   "id": "b3b229d5",
   "metadata": {},
   "outputs": [
    {
     "data": {
      "text/plain": [
       "<AxesSubplot:>"
      ]
     },
     "execution_count": 23,
     "metadata": {},
     "output_type": "execute_result"
    },
    {
     "data": {
      "image/png": "[encoded data removed]",
      "text/plain": [
       "<Figure size 432x288 with 1 Axes>"
      ]
     },
     "metadata": {
      "needs_background": "light"
     },
     "output_type": "display_data"
    }
   ],
   "source": [
    "song_list_df = pd.read_csv(\"2020_top_songs.csv\")\n",
    "song_list_df = song_list_df.drop(\"Unnamed: 0\",axis=1)\n",
    "mm_scaler = preprocessing.MinMaxScaler()\n",
    "mm_song_list_df = song_list_df[[\"Danceability\",\"Energy\",\"Loudness\",\"Speechiness\",\"Acousticness\",\n",
    "                                                       \"Instrumentalness\",\"Liveness\",\"Valence\",\"Tempo\"]]\n",
    "mm_song_list_df = mm_scaler.fit_transform(mm_song_list_df)\n",
    "mm_song_list_df = pd.DataFrame(mm_song_list_df, columns=[\"Danceability\",\"Energy\",\"Loudness\",\"Speechiness\",\"Acousticness\",\n",
    "                                                       \"Instrumentalness\",\"Liveness\",\"Valence\",\"Tempo\"])\n",
    "mm_song_list_df.mean().plot.bar()"
   ]
  },
  {
   "cell_type": "code",
   "execution_count": null,
   "id": "2d1a4a4e",
   "metadata": {},
   "outputs": [],
   "source": [
    "tracks_df = tracks_df.drop([\"Length (Duration)\",\"Popularity\",\"Top Genre\",\"Year\",\"Index\"],axis=1)\n",
    "tracks_df.head() "
   ]
  },
  {
   "cell_type": "code",
   "execution_count": 14,
   "id": "f32fe63b",
   "metadata": {},
   "outputs": [],
   "source": [
    "uris = []\n",
    "for index,row in tracks_df.head().iterrows():\n",
    "    uris.append(get_spotify_uri(tracks_df.iloc[index][\"Title\"],tracks_df.iloc[index][\"Artist\"]))"
   ]
  },
  {
   "cell_type": "code",
   "execution_count": 15,
   "id": "d6ddaf4d",
   "metadata": {},
   "outputs": [
    {
     "data": {
      "text/plain": [
       "['spotify:track:7zkLpY72g6lKQbiHDqri1S',\n",
       " 'spotify:track:2c1ccPqUnFYD8W7LY65bKG',\n",
       " 'spotify:track:1RKUoGiLEbcXN4GY4spQDx',\n",
       " 'spotify:track:7x8dCjCr0x6x2lXKujYD34',\n",
       " 'spotify:track:7vIyudiO2Tr9hZ2yzfwQmx']"
      ]
     },
     "execution_count": 15,
     "metadata": {},
     "output_type": "execute_result"
    }
   ],
   "source": [
    "uris"
   ]
  },
  {
   "cell_type": "code",
   "execution_count": 20,
   "id": "2398799b",
   "metadata": {},
   "outputs": [],
   "source": [
    "playlist_id = \"5d0zFbJHd70e4CkIQYIw37\"\n",
    "add_to_playlist(playlist_id,uris)"
   ]
  },
  {
   "cell_type": "code",
   "execution_count": null,
   "id": "e3bb8c0e",
   "metadata": {},
   "outputs": [],
   "source": []
  }
 ],
 "metadata": {
  "kernelspec": {
   "display_name": "Python 3",
   "language": "python",
   "name": "python3"
  },
  "language_info": {
   "codemirror_mode": {
    "name": "ipython",
    "version": 3
   },
   "file_extension": ".py",
   "mimetype": "text/x-python",
   "name": "python",
   "nbconvert_exporter": "python",
   "pygments_lexer": "ipython3",
   "version": "3.8.8"
  }
 },
 "nbformat": 4,
 "nbformat_minor": 5
}
